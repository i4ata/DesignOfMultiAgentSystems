{
 "cells": [
  {
   "cell_type": "code",
   "execution_count": 1,
   "id": "0c2773ed",
   "metadata": {},
   "outputs": [],
   "source": [
    "import pandas as pd\n",
    "import os\n",
    "from typing import List"
   ]
  },
  {
   "cell_type": "markdown",
   "id": "c960677d",
   "metadata": {},
   "source": [
    "Read the data in 2 lists. 1 list per voting system and each item within a list is the data for a unique number of dimensions (2, 6, or 10)."
   ]
  },
  {
   "cell_type": "code",
   "execution_count": 2,
   "id": "6416cee1",
   "metadata": {},
   "outputs": [],
   "source": [
    "files = sorted(os.listdir())\n",
    "limited = [pd.read_csv(file) for file in files if 'limited' in file]\n",
    "plurality = [pd.read_csv(file) for file in files if 'plurality' in file]"
   ]
  },
  {
   "cell_type": "markdown",
   "id": "73c0d860",
   "metadata": {},
   "source": [
    "Drop all run id's that have only a single sample associated with them. Those runs are invalid (e.g. the number of winners > the number of candidates)"
   ]
  },
  {
   "cell_type": "code",
   "execution_count": 3,
   "id": "d26d733a",
   "metadata": {},
   "outputs": [],
   "source": [
    "def drop_single_sample_trials(df: pd.DataFrame) -> pd.DataFrame:\n",
    "    counts = df.groupby('[run number]').size()\n",
    "    return df[df['[run number]'].isin(counts[counts > 1].index)]"
   ]
  },
  {
   "cell_type": "markdown",
   "id": "6311d87e",
   "metadata": {},
   "source": [
    "Drop features that remain constant throughout all runs."
   ]
  },
  {
   "cell_type": "code",
   "execution_count": 4,
   "id": "2783b755",
   "metadata": {},
   "outputs": [],
   "source": [
    "def drop_irrelevant_features(df: pd.DataFrame) -> pd.DataFrame:\n",
    "    cols_to_drop = ['movement-speed', 'max-utility-for-voting', 'repulsion-distance', 'change-satisfaction']\n",
    "    return df.drop(cols_to_drop, axis='columns')"
   ]
  },
  {
   "cell_type": "code",
   "execution_count": 5,
   "id": "a78e7ae2",
   "metadata": {},
   "outputs": [],
   "source": [
    "def fix_run_id(df: pd.DataFrame) -> pd.DataFrame:\n",
    "    df['[run number]'] = df['[run number]'].map({v: i for i, v in enumerate(df['[run number]'].unique())})\n",
    "    return df"
   ]
  },
  {
   "cell_type": "markdown",
   "id": "0eb525b6",
   "metadata": {},
   "source": [
    "Concatenate a list of datframes by taking into account overlapping run id's"
   ]
  },
  {
   "cell_type": "code",
   "execution_count": 6,
   "id": "1ea2d725",
   "metadata": {},
   "outputs": [],
   "source": [
    "def concat_dfs(dfs: List[pd.DataFrame]):\n",
    "    fixed_dfs = list(map(lambda x: fix_run_id(drop_irrelevant_features(drop_single_sample_trials(x))), dfs))\n",
    "    for i, df in enumerate(fixed_dfs):\n",
    "        df['[run number]'] += i + i * fixed_dfs[0]['[run number]'].max()\n",
    "    return pd.concat(fixed_dfs)"
   ]
  },
  {
   "cell_type": "code",
   "execution_count": 7,
   "id": "2a78ae17",
   "metadata": {},
   "outputs": [],
   "source": [
    "limited = concat_dfs(limited)\n",
    "plurality = concat_dfs(plurality)"
   ]
  },
  {
   "cell_type": "code",
   "execution_count": 8,
   "id": "4bf25c47",
   "metadata": {},
   "outputs": [],
   "source": [
    "plurality['[run number]'] += limited['[run number]'].max() + 1"
   ]
  },
  {
   "cell_type": "markdown",
   "id": "81d4af13",
   "metadata": {},
   "source": [
    "Concatenate the resulting $limited$ and $plurality$ dataframes and save them as parquet format."
   ]
  },
  {
   "cell_type": "code",
   "execution_count": 9,
   "id": "20622155",
   "metadata": {},
   "outputs": [],
   "source": [
    "all_data = pd.concat((limited, plurality)).reset_index(drop=True)"
   ]
  },
  {
   "cell_type": "code",
   "execution_count": 10,
   "id": "5bee7409",
   "metadata": {},
   "outputs": [],
   "source": [
    "all_data = all_data[all_data['[step]'] != 0] # get rid of the first steps, then the voter turnout is always 0"
   ]
  },
  {
   "cell_type": "code",
   "execution_count": 11,
   "id": "bf6fca8d",
   "metadata": {},
   "outputs": [],
   "source": [
    "all_data.to_parquet('all_data.parquet')"
   ]
  },
  {
   "cell_type": "markdown",
   "id": "21c371e1",
   "metadata": {},
   "source": [
    "Take the average voter turnout per run id"
   ]
  },
  {
   "cell_type": "code",
   "execution_count": 12,
   "id": "fb8b32a6",
   "metadata": {},
   "outputs": [],
   "source": [
    "all_data['voter-turnout'] = all_data.groupby('[run number]')['voter-turnout'].transform('mean')"
   ]
  },
  {
   "cell_type": "code",
   "execution_count": 13,
   "id": "9d5b8dd4",
   "metadata": {},
   "outputs": [],
   "source": [
    "all_data = all_data.drop(['average-satisfaction', '[step]'], axis=1).drop_duplicates()"
   ]
  },
  {
   "cell_type": "code",
   "execution_count": 14,
   "id": "278202cb",
   "metadata": {},
   "outputs": [],
   "source": [
    "all_data.to_parquet('averaged_data.parquet')"
   ]
  }
 ],
 "metadata": {
  "kernelspec": {
   "display_name": "Python 3 (ipykernel)",
   "language": "python",
   "name": "python3"
  },
  "language_info": {
   "codemirror_mode": {
    "name": "ipython",
    "version": 3
   },
   "file_extension": ".py",
   "mimetype": "text/x-python",
   "name": "python",
   "nbconvert_exporter": "python",
   "pygments_lexer": "ipython3",
   "version": "3.10.12"
  }
 },
 "nbformat": 4,
 "nbformat_minor": 5
}
